{
 "cells": [
  {
   "cell_type": "code",
   "execution_count": 1,
   "metadata": {},
   "outputs": [],
   "source": [
    "import os\n",
    "import cv2\n",
    "import matplotlib.pyplot as plt\n",
    "from skimage import data, img_as_float\n",
    "from skimage.metrics import mean_squared_error as mse\n",
    "from skimage.metrics import structural_similarity as ssim\n",
    "import time"
   ]
  },
  {
   "cell_type": "code",
   "execution_count": 6,
   "metadata": {},
   "outputs": [],
   "source": [
    "path_ads = './project_ads/'\n",
    "path_stream = './project_stream/'"
   ]
  },
  {
   "cell_type": "code",
   "execution_count": 7,
   "metadata": {},
   "outputs": [],
   "source": [
    "ads_dir = os.listdir(path_ads)\n",
    "stream = os.listdir(path_stream)"
   ]
  },
  {
   "cell_type": "code",
   "execution_count": 8,
   "metadata": {},
   "outputs": [
    {
     "name": "stdout",
     "output_type": "stream",
     "text": [
      "['./project_ads/adc_adcouncil_01_30s/2915273.jpg', './project_ads/alo_alonetogether_01_30s/2915851.jpg', './project_ads/anc_ancestory_01_30s/2910773.jpg', './project_ads/anc_ancestory_02_15s/2911228.jpg', './project_ads/bid_biden_01_60s/2911674.jpg', './project_ads/bid_biden_02_15s/2912142.jpg', './project_ads/bid_biden_03_10s/2913191.jpg', './project_ads/ens_ensure_01_15s/2930519.jpg', './project_ads/nor_nordictrack_01_30s/2913473.jpg', './project_ads/nor_nordictrack_02_15s/2913919.jpg']\n"
     ]
    }
   ],
   "source": [
    "fframes = []\n",
    "for i in ads_dir:\n",
    "    ads = os.listdir(os.path.join(path_ads + i))\n",
    "    fframes.append(os.path.join(path_ads + i +'/' + ads[0]))\n",
    "\n",
    "print(fframes)"
   ]
  },
  {
   "cell_type": "code",
   "execution_count": 9,
   "metadata": {},
   "outputs": [
    {
     "data": {
      "text/plain": [
       "5691"
      ]
     },
     "execution_count": 9,
     "metadata": {},
     "output_type": "execute_result"
    }
   ],
   "source": [
    "len(stream)"
   ]
  },
  {
   "cell_type": "code",
   "execution_count": 10,
   "metadata": {},
   "outputs": [],
   "source": [
    "ans = []"
   ]
  },
  {
   "cell_type": "code",
   "execution_count": 69,
   "metadata": {},
   "outputs": [
    {
     "name": "stdout",
     "output_type": "stream",
     "text": [
      "frame found in stream\n",
      "frame found in stream\n",
      "frame found in stream\n",
      "frame found in stream\n",
      "frame found in stream\n",
      "frame found in stream\n",
      "frame found in stream\n",
      "frame found in stream\n",
      "frame found in stream\n",
      "Completed in  1739.63 seconds\n"
     ]
    }
   ],
   "source": [
    "start = time.perf_counter()\n",
    "for i in fframes:\n",
    "    img_f = cv2.imread(i)\n",
    "    img_fr = cv2.resize(img_f, (300,300))\n",
    "    img_f_gray = cv2.cvtColor(img_fr, cv2.COLOR_BGR2GRAY)\n",
    "    for j in stream:\n",
    "        spath = os.path.join(path_stream+j)\n",
    "        img_s = cv2.imread(spath)\n",
    "        img_sr = cv2.resize(img_s, (300,300))\n",
    "        img_s_gray = cv2.cvtColor(img_sr, cv2.COLOR_BGR2GRAY)\n",
    "        similarity = mse(img_f_gray, img_s_gray)\n",
    "        if similarity == 0:\n",
    "            print('frame found in stream')\n",
    "            ans.append(j)\n",
    "finish = time.perf_counter()\n",
    "print(f'Completed in  {round(finish - start, 2)} seconds')"
   ]
  },
  {
   "cell_type": "code",
   "execution_count": 70,
   "metadata": {},
   "outputs": [
    {
     "data": {
      "text/plain": [
       "['2915273.jpg',\n",
       " '2915851.jpg',\n",
       " '2910773.jpg',\n",
       " '2911228.jpg',\n",
       " '2911674.jpg',\n",
       " '2912142.jpg',\n",
       " '2913191.jpg',\n",
       " '2913473.jpg',\n",
       " '2913919.jpg',\n",
       " '2915273.jpg',\n",
       " '2915851.jpg',\n",
       " '2910773.jpg',\n",
       " '2911228.jpg',\n",
       " '2911674.jpg',\n",
       " '2912142.jpg',\n",
       " '2913191.jpg',\n",
       " '2913473.jpg',\n",
       " '2913919.jpg']"
      ]
     },
     "execution_count": 70,
     "metadata": {},
     "output_type": "execute_result"
    }
   ],
   "source": [
    "ans"
   ]
  },
  {
   "cell_type": "code",
   "execution_count": 71,
   "metadata": {},
   "outputs": [
    {
     "data": {
      "text/plain": [
       "28.983333333333334"
      ]
     },
     "execution_count": 71,
     "metadata": {},
     "output_type": "execute_result"
    }
   ],
   "source": [
    "1739/60"
   ]
  },
  {
   "cell_type": "code",
   "execution_count": null,
   "metadata": {},
   "outputs": [],
   "source": []
  },
  {
   "cell_type": "code",
   "execution_count": null,
   "metadata": {},
   "outputs": [],
   "source": []
  },
  {
   "cell_type": "code",
   "execution_count": 2,
   "metadata": {},
   "outputs": [],
   "source": [
    "import imagehash\n",
    "from PIL import Image\n",
    "import time\n",
    "import os"
   ]
  },
  {
   "cell_type": "code",
   "execution_count": 3,
   "metadata": {},
   "outputs": [],
   "source": [
    "path_ads = './project_ads/'\n",
    "path_stream = './project_stream/'\n",
    "ads_dir = os.listdir(path_ads)\n",
    "stream = os.listdir(path_stream)"
   ]
  },
  {
   "cell_type": "code",
   "execution_count": 4,
   "metadata": {},
   "outputs": [
    {
     "name": "stdout",
     "output_type": "stream",
     "text": [
      "['./project_ads/adc_adcouncil_01_30s/2915273.jpg', './project_ads/alo_alonetogether_01_30s/2915851.jpg', './project_ads/anc_ancestory_01_30s/2910773.jpg', './project_ads/anc_ancestory_02_15s/2911228.jpg', './project_ads/bid_biden_01_60s/2911674.jpg', './project_ads/bid_biden_02_15s/2912142.jpg', './project_ads/bid_biden_03_10s/2913191.jpg', './project_ads/ens_ensure_01_15s/2930519.jpg', './project_ads/nor_nordictrack_01_30s/2913473.jpg', './project_ads/nor_nordictrack_02_15s/2913919.jpg']\n"
     ]
    }
   ],
   "source": [
    "fframes = []\n",
    "for i in ads_dir:\n",
    "    ads = os.listdir(os.path.join(path_ads + i))\n",
    "    fframes.append(os.path.join(path_ads + i +'/' + ads[0]))\n",
    "\n",
    "print(fframes)"
   ]
  },
  {
   "cell_type": "code",
   "execution_count": null,
   "metadata": {},
   "outputs": [],
   "source": []
  },
  {
   "cell_type": "code",
   "execution_count": null,
   "metadata": {},
   "outputs": [],
   "source": []
  },
  {
   "cell_type": "code",
   "execution_count": 5,
   "metadata": {},
   "outputs": [
    {
     "data": {
      "text/plain": [
       "5691"
      ]
     },
     "execution_count": 5,
     "metadata": {},
     "output_type": "execute_result"
    }
   ],
   "source": [
    "len(stream)"
   ]
  },
  {
   "cell_type": "code",
   "execution_count": 6,
   "metadata": {},
   "outputs": [],
   "source": [
    "ans = []"
   ]
  },
  {
   "cell_type": "code",
   "execution_count": 7,
   "metadata": {},
   "outputs": [],
   "source": [
    "ad_hashes = []\n",
    "for i in fframes:\n",
    "    img = Image.open(i)\n",
    "    dhash = imagehash.dhash(img)\n",
    "    ad_hashes.append(dhash)"
   ]
  },
  {
   "cell_type": "code",
   "execution_count": null,
   "metadata": {},
   "outputs": [],
   "source": []
  },
  {
   "cell_type": "code",
   "execution_count": null,
   "metadata": {},
   "outputs": [],
   "source": []
  },
  {
   "cell_type": "code",
   "execution_count": 8,
   "metadata": {},
   "outputs": [
    {
     "name": "stdout",
     "output_type": "stream",
     "text": [
      "frame found\n",
      "frame found\n",
      "frame found\n",
      "frame found\n",
      "frame found\n",
      "frame found\n",
      "frame found\n",
      "frame found\n",
      "frame found\n",
      "179.18 seconds\n"
     ]
    }
   ],
   "source": [
    "start = time.perf_counter()\n",
    "for i in stream:\n",
    "    spath = os.path.join(path_stream+i)\n",
    "    img = Image.open(spath)\n",
    "    dhash = imagehash.dhash(img)\n",
    "    if dhash in ad_hashes:\n",
    "        print('frame found')\n",
    "        ans.append(i)\n",
    "        ad_hashes.remove(dhash)\n",
    "end = time.perf_counter()\n",
    "print(f'{round(end-start, 2)} seconds')"
   ]
  },
  {
   "cell_type": "code",
   "execution_count": 11,
   "metadata": {},
   "outputs": [
    {
     "data": {
      "text/plain": [
       "2.9833333333333334"
      ]
     },
     "execution_count": 11,
     "metadata": {},
     "output_type": "execute_result"
    }
   ],
   "source": [
    "179/60"
   ]
  },
  {
   "cell_type": "code",
   "execution_count": 12,
   "metadata": {},
   "outputs": [
    {
     "data": {
      "text/plain": [
       "['2910773.jpg',\n",
       " '2911228.jpg',\n",
       " '2911674.jpg',\n",
       " '2912142.jpg',\n",
       " '2913191.jpg',\n",
       " '2913473.jpg',\n",
       " '2913919.jpg',\n",
       " '2915273.jpg',\n",
       " '2915851.jpg']"
      ]
     },
     "execution_count": 12,
     "metadata": {},
     "output_type": "execute_result"
    }
   ],
   "source": [
    "ans"
   ]
  },
  {
   "cell_type": "markdown",
   "metadata": {},
   "source": [
    "# Multiprocessing "
   ]
  },
  {
   "cell_type": "code",
   "execution_count": 67,
   "metadata": {},
   "outputs": [],
   "source": [
    "import multiprocessing"
   ]
  },
  {
   "cell_type": "code",
   "execution_count": 68,
   "metadata": {},
   "outputs": [],
   "source": [
    "ans_multi = []"
   ]
  },
  {
   "cell_type": "code",
   "execution_count": 69,
   "metadata": {},
   "outputs": [],
   "source": [
    "def checker(stream_frame, ad_frames, name):\n",
    "    if stream_frame in ad_frames:\n",
    "        print('frame found')\n",
    "        print('name')\n",
    "        ad_frames.remove(stream_frame)"
   ]
  },
  {
   "cell_type": "code",
   "execution_count": 71,
   "metadata": {},
   "outputs": [
    {
     "name": "stdout",
     "output_type": "stream",
     "text": [
      "> <ipython-input-71-539e3e509321>(4)<module>()\n",
      "-> processes = []\n",
      "(Pdb) n\n",
      "> <ipython-input-71-539e3e509321>(5)<module>()\n",
      "-> ans_multi = []\n",
      "(Pdb) n\n",
      "> <ipython-input-71-539e3e509321>(7)<module>()\n",
      "-> for i in stream:\n",
      "(Pdb) n\n",
      "> <ipython-input-71-539e3e509321>(8)<module>()\n",
      "-> spath = os.path.join(path_stream+i)\n",
      "(Pdb) n\n",
      "> <ipython-input-71-539e3e509321>(9)<module>()\n",
      "-> img = Image.open(spath)\n",
      "(Pdb) n\n",
      "> <ipython-input-71-539e3e509321>(10)<module>()\n",
      "-> dhash = imagehash.dhash(img)\n",
      "(Pdb) spath\n",
      "'./project_stream/2910540.jpg'\n",
      "(Pdb) n\n",
      "> <ipython-input-71-539e3e509321>(11)<module>()\n",
      "-> p = multiprocessing.Process(target = checker, args = (dhash, ad_hashes, i ))\n",
      "(Pdb) n\n",
      "> <ipython-input-71-539e3e509321>(12)<module>()\n",
      "-> processes.append(p)\n",
      "(Pdb) n\n",
      "> <ipython-input-71-539e3e509321>(13)<module>()\n",
      "-> p.start()\n",
      "(Pdb) n\n",
      "> <ipython-input-71-539e3e509321>(7)<module>()\n",
      "-> for i in stream:\n",
      "(Pdb) n\n",
      "> <ipython-input-71-539e3e509321>(8)<module>()\n",
      "-> spath = os.path.join(path_stream+i)\n",
      "(Pdb) q\n"
     ]
    },
    {
     "ename": "BdbQuit",
     "evalue": "",
     "output_type": "error",
     "traceback": [
      "\u001b[1;31m---------------------------------------------------------------------------\u001b[0m",
      "\u001b[1;31mBdbQuit\u001b[0m                                   Traceback (most recent call last)",
      "\u001b[1;32m<ipython-input-71-539e3e509321>\u001b[0m in \u001b[0;36m<module>\u001b[1;34m\u001b[0m\n\u001b[0;32m      6\u001b[0m \u001b[1;33m\u001b[0m\u001b[0m\n\u001b[0;32m      7\u001b[0m     \u001b[1;32mfor\u001b[0m \u001b[0mi\u001b[0m \u001b[1;32min\u001b[0m \u001b[0mstream\u001b[0m\u001b[1;33m:\u001b[0m\u001b[1;33m\u001b[0m\u001b[1;33m\u001b[0m\u001b[0m\n\u001b[1;32m----> 8\u001b[1;33m         \u001b[0mspath\u001b[0m \u001b[1;33m=\u001b[0m \u001b[0mos\u001b[0m\u001b[1;33m.\u001b[0m\u001b[0mpath\u001b[0m\u001b[1;33m.\u001b[0m\u001b[0mjoin\u001b[0m\u001b[1;33m(\u001b[0m\u001b[0mpath_stream\u001b[0m\u001b[1;33m+\u001b[0m\u001b[0mi\u001b[0m\u001b[1;33m)\u001b[0m\u001b[1;33m\u001b[0m\u001b[1;33m\u001b[0m\u001b[0m\n\u001b[0m\u001b[0;32m      9\u001b[0m         \u001b[0mimg\u001b[0m \u001b[1;33m=\u001b[0m \u001b[0mImage\u001b[0m\u001b[1;33m.\u001b[0m\u001b[0mopen\u001b[0m\u001b[1;33m(\u001b[0m\u001b[0mspath\u001b[0m\u001b[1;33m)\u001b[0m\u001b[1;33m\u001b[0m\u001b[1;33m\u001b[0m\u001b[0m\n\u001b[0;32m     10\u001b[0m         \u001b[0mdhash\u001b[0m \u001b[1;33m=\u001b[0m \u001b[0mimagehash\u001b[0m\u001b[1;33m.\u001b[0m\u001b[0mdhash\u001b[0m\u001b[1;33m(\u001b[0m\u001b[0mimg\u001b[0m\u001b[1;33m)\u001b[0m\u001b[1;33m\u001b[0m\u001b[1;33m\u001b[0m\u001b[0m\n",
      "\u001b[1;32m<ipython-input-71-539e3e509321>\u001b[0m in \u001b[0;36m<module>\u001b[1;34m\u001b[0m\n\u001b[0;32m      6\u001b[0m \u001b[1;33m\u001b[0m\u001b[0m\n\u001b[0;32m      7\u001b[0m     \u001b[1;32mfor\u001b[0m \u001b[0mi\u001b[0m \u001b[1;32min\u001b[0m \u001b[0mstream\u001b[0m\u001b[1;33m:\u001b[0m\u001b[1;33m\u001b[0m\u001b[1;33m\u001b[0m\u001b[0m\n\u001b[1;32m----> 8\u001b[1;33m         \u001b[0mspath\u001b[0m \u001b[1;33m=\u001b[0m \u001b[0mos\u001b[0m\u001b[1;33m.\u001b[0m\u001b[0mpath\u001b[0m\u001b[1;33m.\u001b[0m\u001b[0mjoin\u001b[0m\u001b[1;33m(\u001b[0m\u001b[0mpath_stream\u001b[0m\u001b[1;33m+\u001b[0m\u001b[0mi\u001b[0m\u001b[1;33m)\u001b[0m\u001b[1;33m\u001b[0m\u001b[1;33m\u001b[0m\u001b[0m\n\u001b[0m\u001b[0;32m      9\u001b[0m         \u001b[0mimg\u001b[0m \u001b[1;33m=\u001b[0m \u001b[0mImage\u001b[0m\u001b[1;33m.\u001b[0m\u001b[0mopen\u001b[0m\u001b[1;33m(\u001b[0m\u001b[0mspath\u001b[0m\u001b[1;33m)\u001b[0m\u001b[1;33m\u001b[0m\u001b[1;33m\u001b[0m\u001b[0m\n\u001b[0;32m     10\u001b[0m         \u001b[0mdhash\u001b[0m \u001b[1;33m=\u001b[0m \u001b[0mimagehash\u001b[0m\u001b[1;33m.\u001b[0m\u001b[0mdhash\u001b[0m\u001b[1;33m(\u001b[0m\u001b[0mimg\u001b[0m\u001b[1;33m)\u001b[0m\u001b[1;33m\u001b[0m\u001b[1;33m\u001b[0m\u001b[0m\n",
      "\u001b[1;32m~\\Anaconda3\\lib\\bdb.py\u001b[0m in \u001b[0;36mtrace_dispatch\u001b[1;34m(self, frame, event, arg)\u001b[0m\n\u001b[0;32m     86\u001b[0m             \u001b[1;32mreturn\u001b[0m \u001b[1;31m# None\u001b[0m\u001b[1;33m\u001b[0m\u001b[1;33m\u001b[0m\u001b[0m\n\u001b[0;32m     87\u001b[0m         \u001b[1;32mif\u001b[0m \u001b[0mevent\u001b[0m \u001b[1;33m==\u001b[0m \u001b[1;34m'line'\u001b[0m\u001b[1;33m:\u001b[0m\u001b[1;33m\u001b[0m\u001b[1;33m\u001b[0m\u001b[0m\n\u001b[1;32m---> 88\u001b[1;33m             \u001b[1;32mreturn\u001b[0m \u001b[0mself\u001b[0m\u001b[1;33m.\u001b[0m\u001b[0mdispatch_line\u001b[0m\u001b[1;33m(\u001b[0m\u001b[0mframe\u001b[0m\u001b[1;33m)\u001b[0m\u001b[1;33m\u001b[0m\u001b[1;33m\u001b[0m\u001b[0m\n\u001b[0m\u001b[0;32m     89\u001b[0m         \u001b[1;32mif\u001b[0m \u001b[0mevent\u001b[0m \u001b[1;33m==\u001b[0m \u001b[1;34m'call'\u001b[0m\u001b[1;33m:\u001b[0m\u001b[1;33m\u001b[0m\u001b[1;33m\u001b[0m\u001b[0m\n\u001b[0;32m     90\u001b[0m             \u001b[1;32mreturn\u001b[0m \u001b[0mself\u001b[0m\u001b[1;33m.\u001b[0m\u001b[0mdispatch_call\u001b[0m\u001b[1;33m(\u001b[0m\u001b[0mframe\u001b[0m\u001b[1;33m,\u001b[0m \u001b[0marg\u001b[0m\u001b[1;33m)\u001b[0m\u001b[1;33m\u001b[0m\u001b[1;33m\u001b[0m\u001b[0m\n",
      "\u001b[1;32m~\\Anaconda3\\lib\\bdb.py\u001b[0m in \u001b[0;36mdispatch_line\u001b[1;34m(self, frame)\u001b[0m\n\u001b[0;32m    111\u001b[0m         \u001b[1;32mif\u001b[0m \u001b[0mself\u001b[0m\u001b[1;33m.\u001b[0m\u001b[0mstop_here\u001b[0m\u001b[1;33m(\u001b[0m\u001b[0mframe\u001b[0m\u001b[1;33m)\u001b[0m \u001b[1;32mor\u001b[0m \u001b[0mself\u001b[0m\u001b[1;33m.\u001b[0m\u001b[0mbreak_here\u001b[0m\u001b[1;33m(\u001b[0m\u001b[0mframe\u001b[0m\u001b[1;33m)\u001b[0m\u001b[1;33m:\u001b[0m\u001b[1;33m\u001b[0m\u001b[1;33m\u001b[0m\u001b[0m\n\u001b[0;32m    112\u001b[0m             \u001b[0mself\u001b[0m\u001b[1;33m.\u001b[0m\u001b[0muser_line\u001b[0m\u001b[1;33m(\u001b[0m\u001b[0mframe\u001b[0m\u001b[1;33m)\u001b[0m\u001b[1;33m\u001b[0m\u001b[1;33m\u001b[0m\u001b[0m\n\u001b[1;32m--> 113\u001b[1;33m             \u001b[1;32mif\u001b[0m \u001b[0mself\u001b[0m\u001b[1;33m.\u001b[0m\u001b[0mquitting\u001b[0m\u001b[1;33m:\u001b[0m \u001b[1;32mraise\u001b[0m \u001b[0mBdbQuit\u001b[0m\u001b[1;33m\u001b[0m\u001b[1;33m\u001b[0m\u001b[0m\n\u001b[0m\u001b[0;32m    114\u001b[0m         \u001b[1;32mreturn\u001b[0m \u001b[0mself\u001b[0m\u001b[1;33m.\u001b[0m\u001b[0mtrace_dispatch\u001b[0m\u001b[1;33m\u001b[0m\u001b[1;33m\u001b[0m\u001b[0m\n\u001b[0;32m    115\u001b[0m \u001b[1;33m\u001b[0m\u001b[0m\n",
      "\u001b[1;31mBdbQuit\u001b[0m: "
     ]
    }
   ],
   "source": [
    "if __name__ == '__main__':\n",
    "    start = time.perf_counter()\n",
    "    processes = []\n",
    "    ans_multi = []\n",
    "    \n",
    "    for i in stream:\n",
    "        spath = os.path.join(path_stream+i)\n",
    "        img = Image.open(spath)\n",
    "        dhash = imagehash.dhash(img)\n",
    "        p = multiprocessing.Process(target = checker, args = (dhash, ad_hashes, i ))\n",
    "        processes.append(p)\n",
    "        p.start()\n",
    "    \n",
    "    for process in processes:\n",
    "        process.join()\n",
    "    \n",
    "    print(ans_multi)\n",
    "    end = time.perf_counter()\n",
    "    print(f'{round(end-start, 2)} seconds')"
   ]
  },
  {
   "cell_type": "code",
   "execution_count": null,
   "metadata": {},
   "outputs": [],
   "source": []
  }
 ],
 "metadata": {
  "kernelspec": {
   "display_name": "Python 3",
   "language": "python",
   "name": "python3"
  },
  "language_info": {
   "codemirror_mode": {
    "name": "ipython",
    "version": 3
   },
   "file_extension": ".py",
   "mimetype": "text/x-python",
   "name": "python",
   "nbconvert_exporter": "python",
   "pygments_lexer": "ipython3",
   "version": "3.7.1"
  }
 },
 "nbformat": 4,
 "nbformat_minor": 2
}
